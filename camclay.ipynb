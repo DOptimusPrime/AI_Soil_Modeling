{
  "cells": [
    {
      "cell_type": "markdown",
      "metadata": {
        "id": "view-in-github",
        "colab_type": "text"
      },
      "source": [
        "<a href=\"https://colab.research.google.com/github/DOptimusPrime/AI_Soil_Modeling/blob/main/camclay.ipynb\" target=\"_parent\"><img src=\"https://colab.research.google.com/assets/colab-badge.svg\" alt=\"Open In Colab\"/></a>"
      ]
    },
    {
      "cell_type": "markdown",
      "metadata": {
        "id": "gC7J1PYSrBWz"
      },
      "source": [
        "The Modified Cam Clay model is based on the following model of conservation of energy.\n",
        "\n",
        "\\begin{align}\n",
        "dW = p^\\prime d\\varepsilon_v^p + qd\\varepsilon_v^s\n",
        "\\end{align}\n",
        "\n",
        "For the internal work it is assumed that when a sample is consolidated isotropically it will experience no deviatoric strain, thus:\n",
        "\n",
        "\\begin{align}\n",
        "    dW(q=0) = p^\\prime d\\varepsilon_v^p + 0 \n",
        "\\end{align}\n",
        "\n",
        "Similarly, it was assumed that at critical state there will be no volumetric strain:\n",
        "\n",
        "\\begin{align}\n",
        "    dW(q = Mp^\\prime) = p^\\prime d\\varepsilon_s^p + 0 \n",
        "\\end{align}    \n",
        "The resultant of these two extremes is assumed to represent the soil during any other state:\n",
        "\n",
        "\\begin{align}\n",
        "    dW &= \\sqrt{(p^\\prime d\\varepsilon_v^p)^2 + (p^\\prime d\\varepsilon_s^p)^2}\\\\\n",
        "    &= p^\\prime\\sqrt{(d\\varepsilon_v^p)^2 + (d\\varepsilon_s^p)^2}\\\\\n",
        "\\end{align}\n",
        "\n",
        "Equating the internal and the external work:\n",
        "\\begin{align}\n",
        "    dW_{ext} &= dW_{int}\\\\\n",
        "    p^\\prime d\\varepsilon_v^p + qd\\varepsilon_v^s &= p^\\prime\\sqrt{(d\\varepsilon_v^p)^2 + (d\\varepsilon_s^p)^2}\\\\\n",
        "    \\Rightarrow \\frac{d\\varepsilon^p_v}{d\\varepsilon^p_s}&=\\frac{-dq}{dp^\\prime} = \\frac{M^2-\\eta^2}{2\\eta}\n",
        "\\end{align}\n",
        "\n",
        "Integrating:\n",
        "\\begin{align}\n",
        "    F(q, p) = q^2 - M^2p^2\\big(\\frac{p^\\prime_c}{p^\\prime}-1\\big) = 0\n",
        "\\end{align}\n",
        "\n",
        "Which is the flow rule and yield surface for the modified Cam Clay model.\n",
        "\n",
        "The stress increment for an elasto-plastic material can be calculated as:\n",
        "\n",
        "\\begin{align}\n",
        "    d\\sigma &= D^e(d\\varepsilon - d\\varepsilon^p)\\\\\n",
        "\\end{align}\n",
        "\n",
        "$d\\varepsilon^p$ can be shown to equal:\n",
        "\n",
        "\\begin{align}\n",
        "d\\varepsilon^p = \n",
        "    \\frac{\\partial G}{\\partial \\sigma^\\prime}\\frac{\\big(\\frac{\\partial F}{\\partial \\sigma}\\big)^T D^ed\\varepsilon}{\\big(\\frac{\\partial F}{\\partial \\sigma}\\big)^T D^e \\big(\\frac{\\partial G}{\\partial \\sigma}\\big) + H}, \\quad \\text{where }H = \\frac{dW_p}{d\\varepsilon^p}\n",
        "\\end{align}\n",
        "\n",
        "Subsequently, the D-matrix can be compiled as:\n",
        "\n",
        "\\begin{align}\n",
        "D^{ep} =\n",
        "    \\begin{bmatrix}\n",
        "        D^e - \\frac{D^e \\big(\\frac{\\partial G}{\\partial \\sigma^\\prime}\\big)\\big(\\frac{\\partial F}{\\partial \\sigma^\\prime}\\big)^T D^e } {-\\big(\\frac{\\partial F}{\\partial W_p}\\big)\\big(\\frac{\\partial W_p}{\\partial \\varepsilon^p}\\big)\\big(\\frac{\\partial G}{\\partial \\sigma^\\prime}\\big) + \\big(\\frac{\\partial F}{\\partial \\sigma^\\prime}\\big)^T D^e \\big(\\frac{\\partial G}{\\partial \\sigma^\\prime}\\big)}\n",
        "    \\end{bmatrix}\n",
        "\\end{align}"
      ]
    },
    {
      "cell_type": "code",
      "execution_count": null,
      "metadata": {
        "colab": {
          "base_uri": "https://localhost:8080/"
        },
        "id": "HsMcFXEDrBW1",
        "outputId": "05e666c2-c06b-4ebc-a995-375460784ae4"
      },
      "outputs": [
        {
          "output_type": "stream",
          "name": "stdout",
          "text": [
            "[[0.]\n",
            " [0.]\n",
            " [0.]\n",
            " ...\n",
            " [0.]\n",
            " [0.]\n",
            " [0.]]\n",
            "1.9631727702419055\n",
            "The initial void ratio before shearing is: 0.963\n"
          ]
        }
      ],
      "source": [
        "import numpy as np\n",
        "import matplotlib.pyplot as plt\n",
        "import pandas as pd\n",
        "\n",
        "\n",
        "# Input Parameters\n",
        "M = 0.95\n",
        "Lambda = 0.16\n",
        "Kappa = 0.06\n",
        "Poisson = 0.2\n",
        "N = 2.7\n",
        "Pc = 100\n",
        "P0 = 100\n",
        "\n",
        "'''\n",
        "M = float(input('Enter the slope of CSL in q-p space, M: '))\n",
        "Lambda = float(input('Enter the value of lambda: '))\n",
        "Kappa = float(input('Enter the value of kappa: '))\n",
        "N = float(input('Enter the value of specifc volume at unit pressure, N: '))\n",
        "Poisson = float(input('Enter the value of effective Poisson ratio: '))\n",
        "Pc = float(input('Enter the consolidation pressure: '))\n",
        "P0 = float(input('Enter the confining pressure: '))\n",
        "'''\n",
        "\n",
        "# Controls\n",
        "\n",
        "Iterations = 20000\n",
        "Inc_Strain = 0.00001\n",
        "\n",
        "\n",
        "# Matrices\n",
        "De = np.zeros((6,6))\n",
        "dFds = np.zeros((6,1))\n",
        "u = np.zeros((Iterations,1))\n",
        "p = np.zeros((Iterations,1))\n",
        "q = np.zeros((Iterations,1))\n",
        "e = np.zeros((Iterations,1))\n",
        "u = np.zeros((Iterations,1))\n",
        "\n",
        "\n",
        "print(e)\n",
        "\n",
        "# Initial State Calculations\n",
        "\n",
        "V = N - Lambda*np.log(Pc) + Kappa*np.log(Pc/P0)\n",
        "\n",
        "print(V)\n",
        "e[0] = V - 1\n",
        "\n",
        "print('The initial void ratio before shearing is: %.3f' %e[0])\n",
        "\n",
        "Stress = np.array([[P0], [P0], [P0], [0], [0], [0]])\n",
        "Strain = np.array([[0], [0], [0], [0], [0], [0]])\n",
        "p[0] = (Stress[0] + Stress[1] + Stress[2])/3\n",
        "q[0] = Stress[0] - Stress[2]\n",
        "F = q[0]**2 + (M*p[0])**2 - p[0]*Pc*M**2\n",
        "\n",
        "\n",
        "# Computations\n",
        "for Iteration in range(Iterations):\n",
        "    \n",
        "    e[Iteration] = V-1 # Void Ratio \n",
        "    \n",
        "    p[Iteration] = (Stress[0] + Stress[1] + Stress[2])/3 # Mean Stress\n",
        "    q[Iteration] = Stress[0] - Stress[2] # Deviatoric Stress\n",
        "    \n",
        "    u[Iteration] = q[Iteration]/3 + P0 - p[Iteration] # This is the distance btween total and effective stress paths\n",
        "    \n",
        "    if F < 0: # Did not yield; calculate new F\n",
        "        F = q[Iteration]**2 + (M*p[Iteration])**2 - p[Iteration]*Pc*M**2\n",
        "    else: # Stress state is on yield surface; calculate new Pc\n",
        "        F = 0\n",
        "        Pc = ((q[Iteration]/M)**2 + (p[Iteration])**2)/p[Iteration]\n",
        "    \n",
        "    # Formulate elastic stiffness matrix \n",
        "    K = V*p[Iteration]/Kappa # K is the Bulk Modulus\n",
        "    G = 3*K*(1-2*Poisson)/(2*(1+Poisson)) # G is the Shear Modulus\n",
        "    \n",
        "    for row in range(6): # Loop through rows 0 to 5\n",
        "        for column in range(6): # Loop through columns 0 to 5\n",
        "            if row == column and row <= 2:\n",
        "                De[row,column] = K + 4*G/3\n",
        "            elif row == column and row > 2:\n",
        "                De[row,column] = G\n",
        "            elif row <= 2 and column <= 2:\n",
        "                De[row,column] = K - 2*G/3\n",
        "                \n",
        "    \n",
        "    # Check if stress state reached yield\n",
        "    if F < 0: # Not on yield surface; elastic matrix\n",
        "        D = De\n",
        "    else: # Stress state is on yiled surface; need to formulate new D-matrix\n",
        "        \n",
        "        for row in range(6): # Formulate 1x6 dF/dsigma matrix\n",
        "            if row < 3:\n",
        "                dFds[row] = (2*p[Iteration] - Pc)/3 + 3*(Stress[row]-p[Iteration])/M**2\n",
        "            else:\n",
        "                dFds[row] = 6*Stress[row]/M**2\n",
        "                \n",
        "        DexdFds = np.matmul(De,dFds)\n",
        "        DexdFdsxdFdsT = np.matmul(DexdFds,np.transpose(dFds))\n",
        "        dFdsTxDe = np.matmul(np.transpose(dFds),De)\n",
        "    # d matrix \n",
        "        D = De - ((np.matmul(DexdFdsxdFdsT,De))/(-(-p[Iteration]*V*Pc*(2*p[Iteration]-Pc)/(Lambda-Kappa))+np.matmul(dFdsTxDe,dFds)))\n",
        "\n",
        "    dStrain = np.array([[Inc_Strain], [-0.5*Inc_Strain], [-0.5*Inc_Strain], [0], [0], [0]]) # Undrained\n",
        "    dStress = np.matmul(D,dStrain) # Stress Increment\n",
        "    Stress = Stress + dStress\n",
        "    Strain = Strain + dStrain\n",
        "    \n",
        "    V = N - Lambda*np.log(Pc) + Kappa*np.log(Pc/p[Iteration]) # Update volume\n",
        " "
      ]
    },
    {
      "cell_type": "code",
      "source": [
        "print(Stress)"
      ],
      "metadata": {
        "colab": {
          "base_uri": "https://localhost:8080/"
        },
        "id": "YLk01VpNDweQ",
        "outputId": "57421b68-845d-4b33-97f1-87f943b3fb1e"
      },
      "execution_count": null,
      "outputs": [
        {
          "output_type": "stream",
          "name": "stdout",
          "text": [
            "[[105.92926379]\n",
            " [ 44.31854285]\n",
            " [ 44.31854285]\n",
            " [  0.        ]\n",
            " [  0.        ]\n",
            " [  0.        ]]\n"
          ]
        }
      ]
    },
    {
      "cell_type": "markdown",
      "metadata": {
        "id": "rDvWqweCrBWw"
      },
      "source": [
        "## Modified Cam Clay"
      ]
    },
    {
      "cell_type": "code",
      "execution_count": null,
      "metadata": {
        "colab": {
          "base_uri": "https://localhost:8080/",
          "height": 283
        },
        "id": "Uq3RNxY7rBW4",
        "outputId": "f112d71b-6c0f-49be-e166-d8e8416e7f56"
      },
      "outputs": [
        {
          "output_type": "display_data",
          "data": {
            "text/plain": [
              "<Figure size 432x288 with 1 Axes>"
            ],
            "image/png": "[encoded data removed]"
          },
          "metadata": {
            "needs_background": "light"
          }
        }
      ],
      "source": [
        "from operator import index\n",
        "# Plot q vs axial strain\n",
        "\n",
        "Axial_Strain = np.linspace(0,Inc_Strain*100.*(Iterations-1),Iterations)  \n",
        "plt.figure(figsize=(6,4))\n",
        "plt.plot(Axial_Strain, q, color='b');\n",
        "plt.xlim(0, Iterations*Inc_Strain*100)\n",
        "plt.ylim(0,np.ceil(max(q)/10)*10)\n",
        "plt.ylabel('Deviatoric Stress (kPa)');\n",
        "plt.xlabel('Axial Strain (%)');\n",
        "\n"
      ]
    },
    {
      "cell_type": "code",
      "execution_count": null,
      "metadata": {
        "colab": {
          "base_uri": "https://localhost:8080/",
          "height": 392
        },
        "id": "ARd_ZQ6HrBW4",
        "outputId": "284a3ef9-02e7-4fcb-e3f1-af9dfecd0ef0"
      },
      "outputs": [
        {
          "output_type": "display_data",
          "data": {
            "text/plain": [
              "<Figure size 432x432 with 1 Axes>"
            ],
            "image/png": "[encoded data removed]"
          },
          "metadata": {
            "needs_background": "light"
          }
        }
      ],
      "source": [
        "# Plot stress path in q-p' plane\n",
        "\n",
        "plt.figure(figsize=(6,6))\n",
        "plt.plot(p, q, color='b', label='Stress Path');\n",
        "Max_Stress = np.maximum(np.ceil(np.max(p+1)/100)*100,np.ceil(np.max(q+1)/100)*100)\n",
        "plt.plot([0, Max_Stress], [0, Max_Stress*M], color='r', label='CSL');\n",
        "plt.xlim(0, Max_Stress)\n",
        "plt.ylim(0, Max_Stress)\n",
        "plt.ylabel('Deviatoric Stress (kPa)');\n",
        "plt.xlabel('Mean Stress (kPa)');\n",
        "plt.legend(loc='lower right');"
      ]
    },
    {
      "cell_type": "code",
      "execution_count": null,
      "metadata": {
        "colab": {
          "base_uri": "https://localhost:8080/",
          "height": 283
        },
        "id": "qvbpbm8XrBW4",
        "outputId": "a3cc3da5-52f3-443c-dabc-3ce739fa68b6"
      },
      "outputs": [
        {
          "output_type": "display_data",
          "data": {
            "text/plain": [
              "<Figure size 432x288 with 1 Axes>"
            ],
            "image/png": "[encoded data removed]"
          },
          "metadata": {
            "needs_background": "light"
          }
        }
      ],
      "source": [
        "# Plot stress path in v-ln p' plane\n",
        "\n",
        "plt.figure(figsize=(6,4))\n",
        "plt.semilogx(p,e, color='b', label='Stress Path')\n",
        "plt.semilogx([1,1000],[N-(Lambda-Kappa)*np.log(2)-1,N-(Lambda-Kappa)*np.log(2)-Lambda*np.log(1000)-1], color='r', label='CSL')\n",
        "plt.semilogx([1,1000],[N-1,N-Lambda*np.log(1000)-1], color='g', label='NCL')\n",
        "plt.xlim(1, np.ceil(np.max(q)/1000)*1000)\n",
        "plt.ylim(N-(Lambda-Kappa)*np.log(2)-Lambda*np.log(np.ceil(np.max(q)/1000)*1000)-1,N-1)\n",
        "plt.ylabel('Void Ratio');\n",
        "plt.xlabel('Mean Stress (kPa)');\n",
        "plt.legend(loc='upper right');"
      ]
    },
    {
      "cell_type": "code",
      "execution_count": null,
      "metadata": {
        "colab": {
          "base_uri": "https://localhost:8080/",
          "height": 283
        },
        "id": "pjV6REo-rBW5",
        "outputId": "3c81bba9-2f5c-4a34-d09a-05a1f69d173b"
      },
      "outputs": [
        {
          "output_type": "display_data",
          "data": {
            "text/plain": [
              "<Figure size 432x288 with 1 Axes>"
            ],
            "image/png": "[encoded data removed]"
          },
          "metadata": {
            "needs_background": "light"
          }
        }
      ],
      "source": [
        "# Plot excess pore pressure vs axial strain\n",
        "\n",
        "plt.figure(figsize=(6,4))\n",
        "plt.plot(Axial_Strain, u, color='b');\n",
        "plt.xlim(0, Iterations*Inc_Strain*100)\n",
        "plt.ylim(np.floor(np.min(u)/10)*10,np.ceil(np.max(u)/10)*10)\n",
        "plt.ylabel('Excess Pore Water Pressure (kPa)');\n",
        "plt.xlabel('Axial Strain (%)');"
      ]
    },
    {
      "cell_type": "code",
      "source": [
        "data = {'Stress':Stress.tolist(),'Strain':Strain.tolist()}"
      ],
      "metadata": {
        "id": "7O5xnNR8s9ro"
      },
      "execution_count": null,
      "outputs": []
    },
    {
      "cell_type": "code",
      "source": [
        "df = pd.DataFrame()\n",
        "df[\"Stress\"] = Stress.tolist()\n",
        "df[\"Strain\"] = Strain.tolist()"
      ],
      "metadata": {
        "id": "vFD-76zBH_Fb"
      },
      "execution_count": null,
      "outputs": []
    },
    {
      "cell_type": "code",
      "source": [
        "df"
      ],
      "metadata": {
        "colab": {
          "base_uri": "https://localhost:8080/",
          "height": 238
        },
        "id": "7KPC_TAlHHA-",
        "outputId": "0e0d81f2-16ae-488a-e33a-8a9ac4d3bc39"
      },
      "execution_count": null,
      "outputs": [
        {
          "output_type": "execute_result",
          "data": {
            "text/plain": [
              "                 Stress                  Strain\n",
              "0  [105.92926378846848]   [0.20000000000005924]\n",
              "1   [44.31854285093293]  [-0.10000000000002962]\n",
              "2   [44.31854285093292]  [-0.10000000000002962]\n",
              "3                 [0.0]                   [0.0]\n",
              "4                 [0.0]                   [0.0]\n",
              "5                 [0.0]                   [0.0]"
            ],
            "text/html": [
              "\n",
              "  <div id=\"df-41ebdd05-6dbf-4688-aa06-2115a09cbd13\">\n",
              "    <div class=\"colab-df-container\">\n",
              "      <div>\n",
              "<style scoped>\n",
              "    .dataframe tbody tr th:only-of-type {\n",
              "        vertical-align: middle;\n",
              "    }\n",
              "\n",
              "    .dataframe tbody tr th {\n",
              "        vertical-align: top;\n",
              "    }\n",
              "\n",
              "    .dataframe thead th {\n",
              "        text-align: right;\n",
              "    }\n",
              "</style>\n",
              "<table border=\"1\" class=\"dataframe\">\n",
              "  <thead>\n",
              "    <tr style=\"text-align: right;\">\n",
              "      <th></th>\n",
              "      <th>Stress</th>\n",
              "      <th>Strain</th>\n",
              "    </tr>\n",
              "  </thead>\n",
              "  <tbody>\n",
              "    <tr>\n",
              "      <th>0</th>\n",
              "      <td>[105.92926378846848]</td>\n",
              "      <td>[0.20000000000005924]</td>\n",
              "    </tr>\n",
              "    <tr>\n",
              "      <th>1</th>\n",
              "      <td>[44.31854285093293]</td>\n",
              "      <td>[-0.10000000000002962]</td>\n",
              "    </tr>\n",
              "    <tr>\n",
              "      <th>2</th>\n",
              "      <td>[44.31854285093292]</td>\n",
              "      <td>[-0.10000000000002962]</td>\n",
              "    </tr>\n",
              "    <tr>\n",
              "      <th>3</th>\n",
              "      <td>[0.0]</td>\n",
              "      <td>[0.0]</td>\n",
              "    </tr>\n",
              "    <tr>\n",
              "      <th>4</th>\n",
              "      <td>[0.0]</td>\n",
              "      <td>[0.0]</td>\n",
              "    </tr>\n",
              "    <tr>\n",
              "      <th>5</th>\n",
              "      <td>[0.0]</td>\n",
              "      <td>[0.0]</td>\n",
              "    </tr>\n",
              "  </tbody>\n",
              "</table>\n",
              "</div>\n",
              "      <button class=\"colab-df-convert\" onclick=\"convertToInteractive('df-41ebdd05-6dbf-4688-aa06-2115a09cbd13')\"\n",
              "              title=\"Convert this dataframe to an interactive table.\"\n",
              "              style=\"display:none;\">\n",
              "        \n",
              "  <svg xmlns=\"http://www.w3.org/2000/svg\" height=\"24px\"viewBox=\"0 0 24 24\"\n",
              "       width=\"24px\">\n",
              "    <path d=\"M0 0h24v24H0V0z\" fill=\"none\"/>\n",
              "    <path d=\"M18.56 5.44l.94 2.06.94-2.06 2.06-.94-2.06-.94-.94-2.06-.94 2.06-2.06.94zm-11 1L8.5 8.5l.94-2.06 2.06-.94-2.06-.94L8.5 2.5l-.94 2.06-2.06.94zm10 10l.94 2.06.94-2.06 2.06-.94-2.06-.94-.94-2.06-.94 2.06-2.06.94z\"/><path d=\"M17.41 7.96l-1.37-1.37c-.4-.4-.92-.59-1.43-.59-.52 0-1.04.2-1.43.59L10.3 9.45l-7.72 7.72c-.78.78-.78 2.05 0 2.83L4 21.41c.39.39.9.59 1.41.59.51 0 1.02-.2 1.41-.59l7.78-7.78 2.81-2.81c.8-.78.8-2.07 0-2.86zM5.41 20L4 18.59l7.72-7.72 1.47 1.35L5.41 20z\"/>\n",
              "  </svg>\n",
              "      </button>\n",
              "      \n",
              "  <style>\n",
              "    .colab-df-container {\n",
              "      display:flex;\n",
              "      flex-wrap:wrap;\n",
              "      gap: 12px;\n",
              "    }\n",
              "\n",
              "    .colab-df-convert {\n",
              "      background-color: #E8F0FE;\n",
              "      border: none;\n",
              "      border-radius: 50%;\n",
              "      cursor: pointer;\n",
              "      display: none;\n",
              "      fill: #1967D2;\n",
              "      height: 32px;\n",
              "      padding: 0 0 0 0;\n",
              "      width: 32px;\n",
              "    }\n",
              "\n",
              "    .colab-df-convert:hover {\n",
              "      background-color: #E2EBFA;\n",
              "      box-shadow: 0px 1px 2px rgba(60, 64, 67, 0.3), 0px 1px 3px 1px rgba(60, 64, 67, 0.15);\n",
              "      fill: #174EA6;\n",
              "    }\n",
              "\n",
              "    [theme=dark] .colab-df-convert {\n",
              "      background-color: #3B4455;\n",
              "      fill: #D2E3FC;\n",
              "    }\n",
              "\n",
              "    [theme=dark] .colab-df-convert:hover {\n",
              "      background-color: #434B5C;\n",
              "      box-shadow: 0px 1px 3px 1px rgba(0, 0, 0, 0.15);\n",
              "      filter: drop-shadow(0px 1px 2px rgba(0, 0, 0, 0.3));\n",
              "      fill: #FFFFFF;\n",
              "    }\n",
              "  </style>\n",
              "\n",
              "      <script>\n",
              "        const buttonEl =\n",
              "          document.querySelector('#df-41ebdd05-6dbf-4688-aa06-2115a09cbd13 button.colab-df-convert');\n",
              "        buttonEl.style.display =\n",
              "          google.colab.kernel.accessAllowed ? 'block' : 'none';\n",
              "\n",
              "        async function convertToInteractive(key) {\n",
              "          const element = document.querySelector('#df-41ebdd05-6dbf-4688-aa06-2115a09cbd13');\n",
              "          const dataTable =\n",
              "            await google.colab.kernel.invokeFunction('convertToInteractive',\n",
              "                                                     [key], {});\n",
              "          if (!dataTable) return;\n",
              "\n",
              "          const docLinkHtml = 'Like what you see? Visit the ' +\n",
              "            '<a target=\"_blank\" href=https://colab.research.google.com/notebooks/data_table.ipynb>data table notebook</a>'\n",
              "            + ' to learn more about interactive tables.';\n",
              "          element.innerHTML = '';\n",
              "          dataTable['output_type'] = 'display_data';\n",
              "          await google.colab.output.renderOutput(dataTable, element);\n",
              "          const docLink = document.createElement('div');\n",
              "          docLink.innerHTML = docLinkHtml;\n",
              "          element.appendChild(docLink);\n",
              "        }\n",
              "      </script>\n",
              "    </div>\n",
              "  </div>\n",
              "  "
            ]
          },
          "metadata": {},
          "execution_count": 60
        }
      ]
    },
    {
      "cell_type": "code",
      "source": [
        "df['Strain'] = Strain"
      ],
      "metadata": {
        "id": "RHdBUfOiCkiT"
      },
      "execution_count": null,
      "outputs": []
    },
    {
      "cell_type": "code",
      "source": [
        "df = pd.DataFrame(data)"
      ],
      "metadata": {
        "id": "0sgsVVyIEKdH"
      },
      "execution_count": null,
      "outputs": []
    },
    {
      "cell_type": "code",
      "source": [
        "df"
      ],
      "metadata": {
        "colab": {
          "base_uri": "https://localhost:8080/",
          "height": 238
        },
        "id": "BtnNJRXkF-DP",
        "outputId": "3514a7ed-746a-4876-97cc-9499bf40e419"
      },
      "execution_count": null,
      "outputs": [
        {
          "output_type": "execute_result",
          "data": {
            "text/plain": [
              "                 Stress                  Strain\n",
              "0  [105.92926378846848]   [0.20000000000005924]\n",
              "1   [44.31854285093293]  [-0.10000000000002962]\n",
              "2   [44.31854285093292]  [-0.10000000000002962]\n",
              "3                 [0.0]                   [0.0]\n",
              "4                 [0.0]                   [0.0]\n",
              "5                 [0.0]                   [0.0]"
            ],
            "text/html": [
              "\n",
              "  <div id=\"df-717f619c-f873-45c0-b4ab-1d8e32936dda\">\n",
              "    <div class=\"colab-df-container\">\n",
              "      <div>\n",
              "<style scoped>\n",
              "    .dataframe tbody tr th:only-of-type {\n",
              "        vertical-align: middle;\n",
              "    }\n",
              "\n",
              "    .dataframe tbody tr th {\n",
              "        vertical-align: top;\n",
              "    }\n",
              "\n",
              "    .dataframe thead th {\n",
              "        text-align: right;\n",
              "    }\n",
              "</style>\n",
              "<table border=\"1\" class=\"dataframe\">\n",
              "  <thead>\n",
              "    <tr style=\"text-align: right;\">\n",
              "      <th></th>\n",
              "      <th>Stress</th>\n",
              "      <th>Strain</th>\n",
              "    </tr>\n",
              "  </thead>\n",
              "  <tbody>\n",
              "    <tr>\n",
              "      <th>0</th>\n",
              "      <td>[105.92926378846848]</td>\n",
              "      <td>[0.20000000000005924]</td>\n",
              "    </tr>\n",
              "    <tr>\n",
              "      <th>1</th>\n",
              "      <td>[44.31854285093293]</td>\n",
              "      <td>[-0.10000000000002962]</td>\n",
              "    </tr>\n",
              "    <tr>\n",
              "      <th>2</th>\n",
              "      <td>[44.31854285093292]</td>\n",
              "      <td>[-0.10000000000002962]</td>\n",
              "    </tr>\n",
              "    <tr>\n",
              "      <th>3</th>\n",
              "      <td>[0.0]</td>\n",
              "      <td>[0.0]</td>\n",
              "    </tr>\n",
              "    <tr>\n",
              "      <th>4</th>\n",
              "      <td>[0.0]</td>\n",
              "      <td>[0.0]</td>\n",
              "    </tr>\n",
              "    <tr>\n",
              "      <th>5</th>\n",
              "      <td>[0.0]</td>\n",
              "      <td>[0.0]</td>\n",
              "    </tr>\n",
              "  </tbody>\n",
              "</table>\n",
              "</div>\n",
              "      <button class=\"colab-df-convert\" onclick=\"convertToInteractive('df-717f619c-f873-45c0-b4ab-1d8e32936dda')\"\n",
              "              title=\"Convert this dataframe to an interactive table.\"\n",
              "              style=\"display:none;\">\n",
              "        \n",
              "  <svg xmlns=\"http://www.w3.org/2000/svg\" height=\"24px\"viewBox=\"0 0 24 24\"\n",
              "       width=\"24px\">\n",
              "    <path d=\"M0 0h24v24H0V0z\" fill=\"none\"/>\n",
              "    <path d=\"M18.56 5.44l.94 2.06.94-2.06 2.06-.94-2.06-.94-.94-2.06-.94 2.06-2.06.94zm-11 1L8.5 8.5l.94-2.06 2.06-.94-2.06-.94L8.5 2.5l-.94 2.06-2.06.94zm10 10l.94 2.06.94-2.06 2.06-.94-2.06-.94-.94-2.06-.94 2.06-2.06.94z\"/><path d=\"M17.41 7.96l-1.37-1.37c-.4-.4-.92-.59-1.43-.59-.52 0-1.04.2-1.43.59L10.3 9.45l-7.72 7.72c-.78.78-.78 2.05 0 2.83L4 21.41c.39.39.9.59 1.41.59.51 0 1.02-.2 1.41-.59l7.78-7.78 2.81-2.81c.8-.78.8-2.07 0-2.86zM5.41 20L4 18.59l7.72-7.72 1.47 1.35L5.41 20z\"/>\n",
              "  </svg>\n",
              "      </button>\n",
              "      \n",
              "  <style>\n",
              "    .colab-df-container {\n",
              "      display:flex;\n",
              "      flex-wrap:wrap;\n",
              "      gap: 12px;\n",
              "    }\n",
              "\n",
              "    .colab-df-convert {\n",
              "      background-color: #E8F0FE;\n",
              "      border: none;\n",
              "      border-radius: 50%;\n",
              "      cursor: pointer;\n",
              "      display: none;\n",
              "      fill: #1967D2;\n",
              "      height: 32px;\n",
              "      padding: 0 0 0 0;\n",
              "      width: 32px;\n",
              "    }\n",
              "\n",
              "    .colab-df-convert:hover {\n",
              "      background-color: #E2EBFA;\n",
              "      box-shadow: 0px 1px 2px rgba(60, 64, 67, 0.3), 0px 1px 3px 1px rgba(60, 64, 67, 0.15);\n",
              "      fill: #174EA6;\n",
              "    }\n",
              "\n",
              "    [theme=dark] .colab-df-convert {\n",
              "      background-color: #3B4455;\n",
              "      fill: #D2E3FC;\n",
              "    }\n",
              "\n",
              "    [theme=dark] .colab-df-convert:hover {\n",
              "      background-color: #434B5C;\n",
              "      box-shadow: 0px 1px 3px 1px rgba(0, 0, 0, 0.15);\n",
              "      filter: drop-shadow(0px 1px 2px rgba(0, 0, 0, 0.3));\n",
              "      fill: #FFFFFF;\n",
              "    }\n",
              "  </style>\n",
              "\n",
              "      <script>\n",
              "        const buttonEl =\n",
              "          document.querySelector('#df-717f619c-f873-45c0-b4ab-1d8e32936dda button.colab-df-convert');\n",
              "        buttonEl.style.display =\n",
              "          google.colab.kernel.accessAllowed ? 'block' : 'none';\n",
              "\n",
              "        async function convertToInteractive(key) {\n",
              "          const element = document.querySelector('#df-717f619c-f873-45c0-b4ab-1d8e32936dda');\n",
              "          const dataTable =\n",
              "            await google.colab.kernel.invokeFunction('convertToInteractive',\n",
              "                                                     [key], {});\n",
              "          if (!dataTable) return;\n",
              "\n",
              "          const docLinkHtml = 'Like what you see? Visit the ' +\n",
              "            '<a target=\"_blank\" href=https://colab.research.google.com/notebooks/data_table.ipynb>data table notebook</a>'\n",
              "            + ' to learn more about interactive tables.';\n",
              "          element.innerHTML = '';\n",
              "          dataTable['output_type'] = 'display_data';\n",
              "          await google.colab.output.renderOutput(dataTable, element);\n",
              "          const docLink = document.createElement('div');\n",
              "          docLink.innerHTML = docLinkHtml;\n",
              "          element.appendChild(docLink);\n",
              "        }\n",
              "      </script>\n",
              "    </div>\n",
              "  </div>\n",
              "  "
            ]
          },
          "metadata": {},
          "execution_count": 36
        }
      ]
    },
    {
      "cell_type": "code",
      "source": [
        "df.to_csv(\"datacrap.csv\")"
      ],
      "metadata": {
        "id": "j7FPDo2cHvue"
      },
      "execution_count": null,
      "outputs": []
    },
    {
      "cell_type": "code",
      "source": [
        ""
      ],
      "metadata": {
        "id": "ZHZ1S_GrH1MP"
      },
      "execution_count": null,
      "outputs": []
    }
  ],
  "metadata": {
    "interpreter": {
      "hash": "a15fe14c9164b2c84764451972c480ab7caecb14ffdaafbc4f746bd44fda90e1"
    },
    "kernelspec": {
      "display_name": "Python 3.8.12 ('xai')",
      "language": "python",
      "name": "python3"
    },
    "language_info": {
      "codemirror_mode": {
        "name": "ipython",
        "version": 3
      },
      "file_extension": ".py",
      "mimetype": "text/x-python",
      "name": "python",
      "nbconvert_exporter": "python",
      "pygments_lexer": "ipython3",
      "version": "3.8.12"
    },
    "colab": {
      "name": "camclay.ipynb",
      "provenance": [],
      "collapsed_sections": [],
      "toc_visible": true,
      "include_colab_link": true
    }
  },
  "nbformat": 4,
  "nbformat_minor": 0
}